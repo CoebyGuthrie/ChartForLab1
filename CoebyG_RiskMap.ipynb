{
  "nbformat": 4,
  "nbformat_minor": 0,
  "metadata": {
    "colab": {
      "name": "CoebyG_RiskMap.ipynb",
      "provenance": [],
      "authorship_tag": "ABX9TyNBTO3YsvTDCoZ9pgTI75b4",
      "include_colab_link": true
    },
    "kernelspec": {
      "name": "python3",
      "display_name": "Python 3"
    },
    "language_info": {
      "name": "python"
    }
  },
  "cells": [
    {
      "cell_type": "markdown",
      "metadata": {
        "id": "view-in-github",
        "colab_type": "text"
      },
      "source": [
        "<a href=\"https://colab.research.google.com/github/CoebyGuthrie/ChartForLab1/blob/main/CoebyG_RiskMap.ipynb\" target=\"_parent\"><img src=\"https://colab.research.google.com/assets/colab-badge.svg\" alt=\"Open In Colab\"/></a>"
      ]
    },
    {
      "cell_type": "code",
      "execution_count": 19,
      "metadata": {
        "id": "_dp4-GOjqAZL"
      },
      "outputs": [],
      "source": [
        "import seaborn as sns\n",
        "import pandas as pd\n",
        "import numpy as np\n",
        "\n",
        "df = pd.DataFrame(columns=['risk','likelihood','impact','score'])"
      ]
    },
    {
      "cell_type": "code",
      "source": [
        "df['risk']=['users','team','budget','security']\n"
      ],
      "metadata": {
        "id": "xybSVhwWqzE2"
      },
      "execution_count": 20,
      "outputs": []
    },
    {
      "cell_type": "code",
      "source": [
        "df['likelihood']=[0.4,0.7,0.2,0.6]\n"
      ],
      "metadata": {
        "id": "teqHBJKArDTz"
      },
      "execution_count": 21,
      "outputs": []
    },
    {
      "cell_type": "code",
      "source": [
        "df['score']=df['impact']*df['likelihood']\n",
        "df['impact']=[2,4,8,10]\n",
        "\n"
      ],
      "metadata": {
        "id": "9UfyZ0VlrNK2"
      },
      "execution_count": 22,
      "outputs": []
    },
    {
      "cell_type": "code",
      "source": [
        "df['score']=df['impact']*df['likelihood']"
      ],
      "metadata": {
        "id": "-hyAA_dvrf7J"
      },
      "execution_count": 23,
      "outputs": []
    },
    {
      "cell_type": "code",
      "source": [
        "scoresPivot=df.pivot('impact','likelihood','score')\n",
        "print(scoresPivot)\n",
        "\n",
        "labelsPivot=df.pivot('impact','likelihood','risk')\n",
        "print(labelsPivot)\n",
        "\n",
        "labelsPivot.fillna('',inplace=True)\n",
        "\n",
        "pl=sns.heatmap(scoresPivot, cmap=\"RdYlGn\", annot=labelsPivot, fmt='')"
      ],
      "metadata": {
        "colab": {
          "base_uri": "https://localhost:8080/",
          "height": 491
        },
        "id": "ei5tP26oroDf",
        "outputId": "15ab8bbe-f556-4353-e525-4441d7bd291c"
      },
      "execution_count": 26,
      "outputs": [
        {
          "output_type": "stream",
          "name": "stdout",
          "text": [
            "likelihood  0.2  0.4  0.6  0.7\n",
            "impact                        \n",
            "2           NaN  0.8  NaN  NaN\n",
            "4           NaN  NaN  NaN  2.8\n",
            "8           1.6  NaN  NaN  NaN\n",
            "10          NaN  NaN  6.0  NaN\n",
            "likelihood     0.2    0.4       0.6   0.7\n",
            "impact                                   \n",
            "2              NaN  users       NaN   NaN\n",
            "4              NaN    NaN       NaN  team\n",
            "8           budget    NaN       NaN   NaN\n",
            "10             NaN    NaN  security   NaN\n"
          ]
        },
        {
          "output_type": "display_data",
          "data": {
            "image/png": "[encoded data removed]",
            "text/plain": [
              "<Figure size 432x288 with 2 Axes>"
            ]
          },
          "metadata": {
            "needs_background": "light"
          }
        }
      ]
    }
  ]
}