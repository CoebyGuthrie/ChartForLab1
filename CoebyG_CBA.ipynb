{
  "nbformat": 4,
  "nbformat_minor": 0,
  "metadata": {
    "colab": {
      "name": "CoebyG_CBA.ipynb",
      "provenance": [],
      "mount_file_id": "11XPPE_JbtwVcIY5dasF1SePudw_zfjSv",
      "authorship_tag": "ABX9TyNg0tIdDPk4NfjQ2gCt1zFe",
      "include_colab_link": true
    },
    "kernelspec": {
      "name": "python3",
      "display_name": "Python 3"
    },
    "language_info": {
      "name": "python"
    }
  },
  "cells": [
    {
      "cell_type": "markdown",
      "metadata": {
        "id": "view-in-github",
        "colab_type": "text"
      },
      "source": [
        "<a href=\"https://colab.research.google.com/github/CoebyGuthrie/ChartForLab1/blob/main/CoebyG_CBA.ipynb\" target=\"_parent\"><img src=\"https://colab.research.google.com/assets/colab-badge.svg\" alt=\"Open In Colab\"/></a>"
      ]
    },
    {
      "cell_type": "code",
      "execution_count": null,
      "metadata": {
        "colab": {
          "base_uri": "https://localhost:8080/"
        },
        "id": "pTWVv_Nd8b28",
        "outputId": "ae150d73-9531-4fde-ae5c-509d571ae3cc"
      },
      "outputs": [
        {
          "output_type": "stream",
          "name": "stdout",
          "text": [
            "   years  developmentCost  operationalCost  valueOfBenefits\n",
            "0      0             -100                0                0\n",
            "1      1              -30              -10               25\n",
            "2      2                0              -15               55\n",
            "3      3                0              -15               85\n"
          ]
        }
      ],
      "source": [
        "import pandas as pd\n",
        "import math\n",
        "\n",
        "dataT=pd.read_csv('/262-CBA.csv')\n",
        "print(dataT)"
      ]
    },
    {
      "cell_type": "code",
      "source": [
        "NPV=[0,0,0,0]\n",
        "\n",
        "for year in dataT['years']:\n",
        "  NPV[year]=dataT['NetBC'][year]*dataT['discountFactor'][year]\n",
        "\n",
        "  dataT['NPV']=[round(num,2) for num in NPV]\n",
        "  print(dataT)\n",
        "  "
      ],
      "metadata": {
        "colab": {
          "base_uri": "https://localhost:8080/"
        },
        "id": "adSRx2qEBgth",
        "outputId": "413590b9-2247-4b82-9218-18e59901e108"
      },
      "execution_count": null,
      "outputs": [
        {
          "output_type": "stream",
          "name": "stdout",
          "text": [
            "   years  developmentCost  operationalCost  ...  NetBC  discountFactor    NPV\n",
            "0      0             -100                0  ...   -100            1.00 -100.0\n",
            "1      1              -30              -10  ...    -15            0.95    0.0\n",
            "2      2                0              -15  ...     40            0.91    0.0\n",
            "3      3                0              -15  ...     70            0.86    0.0\n",
            "\n",
            "[4 rows x 7 columns]\n",
            "   years  developmentCost  operationalCost  ...  NetBC  discountFactor     NPV\n",
            "0      0             -100                0  ...   -100            1.00 -100.00\n",
            "1      1              -30              -10  ...    -15            0.95  -14.25\n",
            "2      2                0              -15  ...     40            0.91    0.00\n",
            "3      3                0              -15  ...     70            0.86    0.00\n",
            "\n",
            "[4 rows x 7 columns]\n",
            "   years  developmentCost  operationalCost  ...  NetBC  discountFactor     NPV\n",
            "0      0             -100                0  ...   -100            1.00 -100.00\n",
            "1      1              -30              -10  ...    -15            0.95  -14.25\n",
            "2      2                0              -15  ...     40            0.91   36.40\n",
            "3      3                0              -15  ...     70            0.86    0.00\n",
            "\n",
            "[4 rows x 7 columns]\n",
            "   years  developmentCost  operationalCost  ...  NetBC  discountFactor     NPV\n",
            "0      0             -100                0  ...   -100            1.00 -100.00\n",
            "1      1              -30              -10  ...    -15            0.95  -14.25\n",
            "2      2                0              -15  ...     40            0.91   36.40\n",
            "3      3                0              -15  ...     70            0.86   60.20\n",
            "\n",
            "[4 rows x 7 columns]\n"
          ]
        }
      ]
    },
    {
      "cell_type": "code",
      "source": [
        "NetBC=[0,0,0,0]\n",
        "for year in dataT['years']:\n",
        "  NetBC[year]=dataT['developmentCost'][year]+ dataT['operationalCost'][year]+dataT['valueOfBenefits'][year]\n",
        "\n",
        "  dataT['NetBC']= NetBC\n",
        "  \n",
        "  print(dataT)\n",
        "  "
      ],
      "metadata": {
        "colab": {
          "base_uri": "https://localhost:8080/"
        },
        "id": "3XaGPlxxAnf7",
        "outputId": "87f30c78-2068-4027-8166-0671dd7e9a16"
      },
      "execution_count": null,
      "outputs": [
        {
          "output_type": "stream",
          "name": "stdout",
          "text": [
            "   years  developmentCost  operationalCost  valueOfBenefits  NetBC\n",
            "0      0             -100                0                0   -100\n",
            "1      1              -30              -10               25      0\n",
            "2      2                0              -15               55      0\n",
            "3      3                0              -15               85      0\n",
            "   years  developmentCost  operationalCost  valueOfBenefits  NetBC\n",
            "0      0             -100                0                0   -100\n",
            "1      1              -30              -10               25    -15\n",
            "2      2                0              -15               55      0\n",
            "3      3                0              -15               85      0\n",
            "   years  developmentCost  operationalCost  valueOfBenefits  NetBC\n",
            "0      0             -100                0                0   -100\n",
            "1      1              -30              -10               25    -15\n",
            "2      2                0              -15               55     40\n",
            "3      3                0              -15               85      0\n",
            "   years  developmentCost  operationalCost  valueOfBenefits  NetBC\n",
            "0      0             -100                0                0   -100\n",
            "1      1              -30              -10               25    -15\n",
            "2      2                0              -15               55     40\n",
            "3      3                0              -15               85     70\n"
          ]
        }
      ]
    },
    {
      "cell_type": "code",
      "source": [
        "discountRate= 0.05\n",
        "discountFactor=[0,0,0,0]\n",
        "for year in dataT['years']:\n",
        "  discountFactor[year]=1/math.pow((1+discountRate),year)\n",
        "  dataT['discountFactor']=[round(num,2) for num in discountFactor]\n",
        "  \n",
        "  print (dataT)"
      ],
      "metadata": {
        "colab": {
          "base_uri": "https://localhost:8080/"
        },
        "id": "i8OMhdVO-VFK",
        "outputId": "8b6da749-aafd-42d7-9bd0-da6350782085"
      },
      "execution_count": null,
      "outputs": [
        {
          "output_type": "stream",
          "name": "stdout",
          "text": [
            "   years  developmentCost  ...  NetBC  discountFactor\n",
            "0      0             -100  ...   -100             1.0\n",
            "1      1              -30  ...    -15             0.0\n",
            "2      2                0  ...     40             0.0\n",
            "3      3                0  ...     70             0.0\n",
            "\n",
            "[4 rows x 6 columns]\n",
            "   years  developmentCost  ...  NetBC  discountFactor\n",
            "0      0             -100  ...   -100            1.00\n",
            "1      1              -30  ...    -15            0.95\n",
            "2      2                0  ...     40            0.00\n",
            "3      3                0  ...     70            0.00\n",
            "\n",
            "[4 rows x 6 columns]\n",
            "   years  developmentCost  ...  NetBC  discountFactor\n",
            "0      0             -100  ...   -100            1.00\n",
            "1      1              -30  ...    -15            0.95\n",
            "2      2                0  ...     40            0.91\n",
            "3      3                0  ...     70            0.00\n",
            "\n",
            "[4 rows x 6 columns]\n",
            "   years  developmentCost  ...  NetBC  discountFactor\n",
            "0      0             -100  ...   -100            1.00\n",
            "1      1              -30  ...    -15            0.95\n",
            "2      2                0  ...     40            0.91\n",
            "3      3                0  ...     70            0.86\n",
            "\n",
            "[4 rows x 6 columns]\n"
          ]
        }
      ]
    }
  ]
}